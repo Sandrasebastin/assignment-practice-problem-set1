{
 "cells": [
  {
   "cell_type": "code",
   "execution_count": null,
   "id": "b0d0f925",
   "metadata": {},
   "outputs": [],
   "source": [
    "import numpy as n\n",
    "r=int(input(\"enter radius: \"))\n",
    "n.area=pi*r**2\n",
    "print(area)\n"
   ]
  },
  {
   "cell_type": "code",
   "execution_count": 1,
   "id": "4a365097",
   "metadata": {},
   "outputs": [
    {
     "name": "stdout",
     "output_type": "stream",
     "text": [
      "enter radius: 3\n"
     ]
    },
    {
     "ename": "NameError",
     "evalue": "name 'pi' is not defined",
     "output_type": "error",
     "traceback": [
      "\u001b[1;31m---------------------------------------------------------------------------\u001b[0m",
      "\u001b[1;31mNameError\u001b[0m                                 Traceback (most recent call last)",
      "Cell \u001b[1;32mIn[1], line 3\u001b[0m\n\u001b[0;32m      1\u001b[0m \u001b[38;5;28;01mimport\u001b[39;00m \u001b[38;5;21;01mnumpy\u001b[39;00m \u001b[38;5;28;01mas\u001b[39;00m \u001b[38;5;21;01mn\u001b[39;00m\n\u001b[0;32m      2\u001b[0m r\u001b[38;5;241m=\u001b[39m\u001b[38;5;28mint\u001b[39m(\u001b[38;5;28minput\u001b[39m(\u001b[38;5;124m\"\u001b[39m\u001b[38;5;124menter radius: \u001b[39m\u001b[38;5;124m\"\u001b[39m))\n\u001b[1;32m----> 3\u001b[0m n\u001b[38;5;241m.\u001b[39marea\u001b[38;5;241m=\u001b[39mpi\u001b[38;5;241m*\u001b[39mr\u001b[38;5;241m*\u001b[39m\u001b[38;5;241m*\u001b[39m\u001b[38;5;241m2\u001b[39m\n\u001b[0;32m      4\u001b[0m \u001b[38;5;28mprint\u001b[39m(area)\n",
      "\u001b[1;31mNameError\u001b[0m: name 'pi' is not defined"
     ]
    }
   ],
   "source": [
    "import numpy as n\n",
    "r=int(input(\"enter radius: \"))\n",
    "n.area=pi*r**2\n",
    "print(area)"
   ]
  },
  {
   "cell_type": "code",
   "execution_count": null,
   "id": "a6874f66",
   "metadata": {},
   "outputs": [],
   "source": [
    "import numpy as n\n",
    "r=int(input(\"enter radius: \"))\n",
    "area_of_circle=n.pi*r**2\n",
    "print(\"Area of circle is\",area_of_circle)"
   ]
  },
  {
   "cell_type": "code",
   "execution_count": null,
   "id": "ef1b63c9",
   "metadata": {},
   "outputs": [],
   "source": [
    "import numpy as n\n",
    "r=int(input(\"enter radius: \"))\n",
    "area_of_circle=n.pi*r**2\n",
    "print(\"Area of circle is\",area_of_circle)"
   ]
  },
  {
   "cell_type": "code",
   "execution_count": 1,
   "id": "e9803f68",
   "metadata": {},
   "outputs": [
    {
     "name": "stdout",
     "output_type": "stream",
     "text": [
      "enter radius: 3\n",
      "Area of circle is 28.274333882308138\n"
     ]
    }
   ],
   "source": [
    "import numpy as n\n",
    "r=int(input(\"enter radius: \"))\n",
    "area_of_circle=n.pi*r**2\n",
    "print(\"Area of circle is\",area_of_circle)"
   ]
  },
  {
   "cell_type": "code",
   "execution_count": 2,
   "id": "9f72b495",
   "metadata": {},
   "outputs": [
    {
     "name": "stdout",
     "output_type": "stream",
     "text": [
      "enter radius: 3\n",
      "Area of circle is 28.274333882308138\n"
     ]
    }
   ],
   "source": [
    "import math as m\n",
    "r=int(input(\"enter radius: \"))\n",
    "area_of_circle=m.pi*r**2\n",
    "print(\"Area of circle is\",area_of_circle)"
   ]
  },
  {
   "cell_type": "code",
   "execution_count": 7,
   "id": "68c742c8",
   "metadata": {},
   "outputs": [
    {
     "name": "stdout",
     "output_type": "stream",
     "text": [
      "enter name: Anisha\n",
      "enter roll number: 21\n",
      "enter mark: 78\n",
      "Name: Anisha\n",
      "Roll number: 21\n",
      "Mark: 78\n"
     ]
    }
   ],
   "source": [
    "_name=input(\"enter name: \")\n",
    "roll_number=int(input(\"enter roll number: \"))\n",
    "_mark=int(input(\"enter mark: \"))\n",
    "print(\"Name:\",_name)\n",
    "print(\"Roll number:\",roll_number)\n",
    "print(\"Mark:\",_mark)"
   ]
  },
  {
   "cell_type": "code",
   "execution_count": 9,
   "id": "f2e61789",
   "metadata": {},
   "outputs": [
    {
     "data": {
      "text/plain": [
       "47"
      ]
     },
     "execution_count": 9,
     "metadata": {},
     "output_type": "execute_result"
    }
   ],
   "source": [
    "A=[12,3,47,10]\n",
    "max(A)"
   ]
  },
  {
   "cell_type": "code",
   "execution_count": 2,
   "id": "b0434b60",
   "metadata": {},
   "outputs": [
    {
     "name": "stdout",
     "output_type": "stream",
     "text": [
      "current num 1 previous num 0 sum:  1\n",
      "current num 2 previous num 1 sum:  3\n",
      "current num 3 previous num 2 sum:  5\n",
      "current num 4 previous num 3 sum:  7\n",
      "current num 5 previous num 4 sum:  9\n",
      "current num 6 previous num 5 sum:  11\n",
      "current num 7 previous num 6 sum:  13\n",
      "current num 8 previous num 7 sum:  15\n",
      "current num 9 previous num 8 sum:  17\n",
      "current num 10 previous num 9 sum:  19\n"
     ]
    }
   ],
   "source": [
    "previous_num=0\n",
    "for i in range(1,11):\n",
    "    _sum=previous_num+i\n",
    "    print(\"current num\",i,\"previous num\",previous_num,\"sum: \",_sum)\n",
    "    previous_num=i\n",
    "    "
   ]
  },
  {
   "cell_type": "code",
   "execution_count": 13,
   "id": "de0a6b25",
   "metadata": {},
   "outputs": [
    {
     "name": "stdout",
     "output_type": "stream",
     "text": [
      "enter number13,15,5,19.33,20,10,30\n"
     ]
    },
    {
     "ename": "ValueError",
     "evalue": "invalid literal for int() with base 10: '13,15,5,19.33,20,10,30'",
     "output_type": "error",
     "traceback": [
      "\u001b[1;31m---------------------------------------------------------------------------\u001b[0m",
      "\u001b[1;31mValueError\u001b[0m                                Traceback (most recent call last)",
      "Cell \u001b[1;32mIn[13], line 4\u001b[0m\n\u001b[0;32m      2\u001b[0m     numbers\u001b[38;5;241m=\u001b[39m[]\n\u001b[0;32m      3\u001b[0m \u001b[38;5;28;01mfor\u001b[39;00m i \u001b[38;5;129;01min\u001b[39;00m \u001b[38;5;28mrange\u001b[39m(\u001b[38;5;241m8\u001b[39m):        \n\u001b[1;32m----> 4\u001b[0m     num\u001b[38;5;241m=\u001b[39m\u001b[38;5;28mint\u001b[39m(\u001b[38;5;28minput\u001b[39m(\u001b[38;5;124m\"\u001b[39m\u001b[38;5;124menter number\u001b[39m\u001b[38;5;124m\"\u001b[39m))\n\u001b[0;32m      5\u001b[0m     numbers\u001b[38;5;241m.\u001b[39mappend(num)\n\u001b[0;32m      6\u001b[0m \u001b[38;5;28mprint\u001b[39m(\u001b[38;5;124m\"\u001b[39m\u001b[38;5;124mnumbers divisible by 5\u001b[39m\u001b[38;5;124m\"\u001b[39m)\n",
      "\u001b[1;31mValueError\u001b[0m: invalid literal for int() with base 10: '13,15,5,19.33,20,10,30'"
     ]
    }
   ],
   "source": [
    "def main():\n",
    "    numbers=[]\n",
    "for i in range(8):        \n",
    "    num=int(input(\"enter number\"))\n",
    "    numbers.append(num)\n",
    "print(\"numbers divisible by 5\")\n",
    "for num in numbers:\n",
    "    if num%5==0:\n",
    "        print(num)\n",
    "if __name__==\"__main__\":\n",
    "    main()"
   ]
  },
  {
   "cell_type": "code",
   "execution_count": 15,
   "id": "2fcf2130",
   "metadata": {},
   "outputs": [
    {
     "name": "stdout",
     "output_type": "stream",
     "text": [
      "enter any num7\n",
      "7 is prime\n"
     ]
    }
   ],
   "source": [
    "num=int(input(\"enter any num\"))\n",
    "if num>1:\n",
    "    for i in range(2,num):\n",
    "        if (num%i)==0:\n",
    "            print(num,\"is not prime\")\n",
    "            break\n",
    "    else:\n",
    "        print(num,\"is prime\")\n",
    "else:\n",
    "    print(num,\"is not prime\")"
   ]
  },
  {
   "cell_type": "code",
   "execution_count": 16,
   "id": "f33c0bc9",
   "metadata": {},
   "outputs": [
    {
     "name": "stdout",
     "output_type": "stream",
     "text": [
      "enter any num15\n",
      "15 is not prime\n"
     ]
    }
   ],
   "source": [
    "num=int(input(\"enter any num\"))\n",
    "if num>1:\n",
    "    for i in range(2,num):\n",
    "        if (num%i)==0:\n",
    "            print(num,\"is not prime\")\n",
    "            break\n",
    "    else:\n",
    "        print(num,\"is prime\")\n",
    "else:\n",
    "    print(num,\"is not prime\")"
   ]
  },
  {
   "cell_type": "code",
   "execution_count": 18,
   "id": "b967e673",
   "metadata": {},
   "outputs": [
    {
     "name": "stdout",
     "output_type": "stream",
     "text": [
      "input list:  [10, 40, 30, 70]\n",
      "output=reversed input list:  [70, 30, 40, 10]\n"
     ]
    }
   ],
   "source": [
    "given_list=[10,40,30,70]\n",
    "print(\"input list: \",given_list)\n",
    "given_list.reverse()\n",
    "print(\"output=reversed input list: \",given_list)"
   ]
  },
  {
   "cell_type": "code",
   "execution_count": 19,
   "id": "caf6ec2f",
   "metadata": {},
   "outputs": [
    {
     "name": "stdout",
     "output_type": "stream",
     "text": [
      "*\n",
      "**\n",
      "***\n",
      "****\n"
     ]
    }
   ],
   "source": [
    "for i in range(1,5):\n",
    "    print(\"*\" * i)"
   ]
  },
  {
   "cell_type": "code",
   "execution_count": 20,
   "id": "16526135",
   "metadata": {},
   "outputs": [
    {
     "data": {
      "text/plain": [
       "34"
      ]
     },
     "execution_count": 20,
     "metadata": {},
     "output_type": "execute_result"
    }
   ],
   "source": [
    "S=[34,12,17]\n",
    "max(S)"
   ]
  },
  {
   "cell_type": "code",
   "execution_count": 24,
   "id": "2925b02f",
   "metadata": {},
   "outputs": [
    {
     "name": "stdout",
     "output_type": "stream",
     "text": [
      "*\n",
      "**\n",
      "***\n",
      "****\n",
      "*****\n"
     ]
    },
    {
     "ename": "TypeError",
     "evalue": "Value after * must be an iterable, not int",
     "output_type": "error",
     "traceback": [
      "\u001b[1;31m---------------------------------------------------------------------------\u001b[0m",
      "\u001b[1;31mTypeError\u001b[0m                                 Traceback (most recent call last)",
      "Cell \u001b[1;32mIn[24], line 6\u001b[0m\n\u001b[0;32m      3\u001b[0m     \u001b[38;5;28mprint\u001b[39m(\u001b[38;5;124m'\u001b[39m\u001b[38;5;124m*\u001b[39m\u001b[38;5;124m'\u001b[39m\u001b[38;5;241m*\u001b[39mi)\n\u001b[0;32m      5\u001b[0m \u001b[38;5;28;01mfor\u001b[39;00m i \u001b[38;5;129;01min\u001b[39;00m \u001b[38;5;28mrange\u001b[39m(n\u001b[38;5;241m-\u001b[39m\u001b[38;5;241m1\u001b[39m,\u001b[38;5;241m0\u001b[39m,\u001b[38;5;241m-\u001b[39m\u001b[38;5;241m1\u001b[39m):\n\u001b[1;32m----> 6\u001b[0m     \u001b[38;5;28mprint\u001b[39m(\u001b[38;5;124m'\u001b[39m\u001b[38;5;124m*\u001b[39m\u001b[38;5;124m'\u001b[39m,\u001b[38;5;241m*\u001b[39mi)\n",
      "\u001b[1;31mTypeError\u001b[0m: Value after * must be an iterable, not int"
     ]
    }
   ],
   "source": [
    "num_rows=5\n",
    "for i in range(1,num_rows+1):\n",
    "    print('*'*i)\n",
    "\n",
    "for i in range(num_rows-1,0,-1):\n",
    "    print('*',*i)\n",
    "    \n"
   ]
  },
  {
   "cell_type": "code",
   "execution_count": 26,
   "id": "01f6ffe0",
   "metadata": {},
   "outputs": [
    {
     "name": "stdout",
     "output_type": "stream",
     "text": [
      "*\n",
      "**\n",
      "***\n",
      "****\n",
      "*****\n",
      "****\n",
      "***\n",
      "**\n",
      "*\n"
     ]
    }
   ],
   "source": [
    "num_rows=5\n",
    "for i in range(1,num_rows+1):\n",
    "    print('*'*i)\n",
    "\n",
    "for i in range(num_rows-1,0,-1):\n",
    "    print('*'*i)\n",
    "    "
   ]
  },
  {
   "cell_type": "code",
   "execution_count": null,
   "id": "99d31efd",
   "metadata": {},
   "outputs": [],
   "source": []
  }
 ],
 "metadata": {
  "kernelspec": {
   "display_name": "Python 3 (ipykernel)",
   "language": "python",
   "name": "python3"
  },
  "language_info": {
   "codemirror_mode": {
    "name": "ipython",
    "version": 3
   },
   "file_extension": ".py",
   "mimetype": "text/x-python",
   "name": "python",
   "nbconvert_exporter": "python",
   "pygments_lexer": "ipython3",
   "version": "3.11.3"
  }
 },
 "nbformat": 4,
 "nbformat_minor": 5
}
